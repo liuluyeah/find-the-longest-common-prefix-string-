{
 "cells": [
  {
   "cell_type": "code",
   "execution_count": 32,
   "metadata": {
    "collapsed": false
   },
   "outputs": [
    {
     "name": "stdout",
     "output_type": "stream",
     "text": [
      "ab acd cbcd\n",
      "a\n"
     ]
    }
   ],
   "source": [
    "#返回最长公共字符串python3----byliulu\n",
    "#输入： abc abcd abcde\n",
    "#输出： abc\n",
    "strs=list(input().split())\n",
    "#1、找到列表里最短的字符串\n",
    "shorter=strs[0]\n",
    "for i in strs[1:]:\n",
    "    if len(i)<len(shorter):\n",
    "        shorter=i\n",
    "#2、用最短的字符串和列表中其他字符串比较，将相同字符放到一个列表中\n",
    "a=strs.index(shorter)\n",
    "res=[]\n",
    "for item in strs[:a]+strs[a+1:]:\n",
    "    sub=''\n",
    "    for x in shorter:\n",
    "        if x in item:\n",
    "            sub+=x\n",
    "    res.append(sub)\n",
    "#3、打印最长公共字符串\n",
    "longer=res[0]\n",
    "for i in res[1:]:\n",
    "    if len(i)>len(longer):\n",
    "        longer=i\n",
    "print(longer)\n",
    "                \n",
    "    \n",
    "    "
   ]
  },
  {
   "cell_type": "code",
   "execution_count": null,
   "metadata": {
    "collapsed": true
   },
   "outputs": [],
   "source": []
  }
 ],
 "metadata": {
  "kernelspec": {
   "display_name": "Python 3",
   "language": "python",
   "name": "python3"
  },
  "language_info": {
   "codemirror_mode": {
    "name": "ipython",
    "version": 3
   },
   "file_extension": ".py",
   "mimetype": "text/x-python",
   "name": "python",
   "nbconvert_exporter": "python",
   "pygments_lexer": "ipython3",
   "version": "3.6.0"
  }
 },
 "nbformat": 4,
 "nbformat_minor": 2
}
