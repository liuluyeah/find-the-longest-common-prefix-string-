{
 "cells": [
  {
   "cell_type": "code",
   "execution_count": 5,
   "metadata": {
    "collapsed": false
   },
   "outputs": [
    {
     "name": "stdout",
     "output_type": "stream",
     "text": [
      "aaabbc aabcaaabbc aabbccaaab\n",
      "['aabbc']\n"
     ]
    }
   ],
   "source": [
    "#返回最长公共字符串python3----byliulu\n",
    "#情形一：只存在唯一的一个最长公共字符串\n",
    "#输入： aaabbc aabcaaabbc aabbccaaab\n",
    "#输出： ['aabbc']\n",
    "#情形二：存在多个长度相同的最长公共字符串\n",
    "#输入： abcd abbc abcde\n",
    "#输出：['bc', 'ab']\n",
    "strs=list(input().split())\n",
    "#1、找到列表里最短的字符串\n",
    "shorter=strs[0]\n",
    "for i in strs[1:]:\n",
    "    if len(i)<len(shorter):\n",
    "        shorter=i\n",
    "#2、找到最短字符串的所有子串，存在数组shortList中\n",
    "m=0\n",
    "n=len(shorter)\n",
    "shortList=[]\n",
    "while(m<n):\n",
    "    i=n-m\n",
    "    while(i>=0):\n",
    "        shortList.append(shorter[m:m+i])\n",
    "        i-=1\n",
    "    m+=1\n",
    "#3、shortList中去重复、删除空字符\n",
    "for s in shortList:\n",
    "    if s == '':\n",
    "        shortList.remove(s)   \n",
    "shortList=list(set(shortList))\n",
    "#4、shortList列表中哪些元素在strs全部元素中，将其放入res结果中\n",
    "res=[]\n",
    "for item in shortList:\n",
    "    count=0\n",
    "    for x in strs:\n",
    "        if item in x:\n",
    "            count=count+1\n",
    "    if count==len(strs):\n",
    "        res.append(item)\n",
    "#5、找出res中最长的元素并打印,若存在多个相同长度的字符串，就将它们全部打印出来\n",
    "long=res[0]\n",
    "for i in res[1:]:\n",
    "    if len(i)>len(long):\n",
    "        long=i\n",
    "final=[]        \n",
    "for i in res:\n",
    "    if len(i)==len(long):\n",
    "        final.append(i)\n",
    "print(final)\n",
    "        "
   ]
  }
 ],
 "metadata": {
  "kernelspec": {
   "display_name": "Python 3",
   "language": "python",
   "name": "python3"
  },
  "language_info": {
   "codemirror_mode": {
    "name": "ipython",
    "version": 3
   },
   "file_extension": ".py",
   "mimetype": "text/x-python",
   "name": "python",
   "nbconvert_exporter": "python",
   "pygments_lexer": "ipython3",
   "version": "3.6.0"
  }
 },
 "nbformat": 4,
 "nbformat_minor": 2
}
